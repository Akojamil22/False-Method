{
  "nbformat": 4,
  "nbformat_minor": 0,
  "metadata": {
    "colab": {
      "provenance": [],
      "authorship_tag": "ABX9TyOsxD+L7OqxNHm1EPSKaZuY",
      "include_colab_link": true
    },
    "kernelspec": {
      "name": "python3",
      "display_name": "Python 3"
    },
    "language_info": {
      "name": "python"
    }
  },
  "cells": [
    {
      "cell_type": "markdown",
      "metadata": {
        "id": "view-in-github",
        "colab_type": "text"
      },
      "source": [
        "<a href=\"https://colab.research.google.com/github/Akojamil22/False-Method/blob/main/False_Method.ipynb\" target=\"_parent\"><img src=\"https://colab.research.google.com/assets/colab-badge.svg\" alt=\"Open In Colab\"/></a>"
      ]
    },
    {
      "cell_type": "code",
      "execution_count": 4,
      "metadata": {
        "colab": {
          "base_uri": "https://localhost:8080/"
        },
        "id": "s0uJSGfsJ_LO",
        "outputId": "790c7c6d-f5d6-4ec3-ab4b-38210966d413"
      },
      "outputs": [
        {
          "output_type": "stream",
          "name": "stdout",
          "text": [
            "Approximate root: 1.2599208541178715\n",
            "Iterations performed: 7\n"
          ]
        }
      ],
      "source": [
        "def false_position_method(func, a, b, tol=1e-6, max_iter=100):\n",
        "    \"\"\"\n",
        "    False Position method to find the root of a function.\n",
        "\n",
        "    Parameters:\n",
        "        func (function): The target function.\n",
        "        a (float): Initial guess a.\n",
        "        b (float): Initial guess b.\n",
        "        tol (float): Tolerance for stopping criteria.\n",
        "        max_iter (int): Maximum number of iterations.\n",
        "\n",
        "    Returns:\n",
        "        root (float): Approximation of the root.\n",
        "        iterations (int): Number of iterations performed.\n",
        "    \"\"\"\n",
        "    if func(a) * func(b) > 0:\n",
        "        raise ValueError(\"The initial guesses must bracket the root.\")\n",
        "\n",
        "    iterations = 0\n",
        "    while abs(func(b)) > tol and iterations < max_iter:\n",
        "        # Calculate the new approximation using false position formula\n",
        "        c = b - (func(b) * (b - a)) / (func(b) - func(a))\n",
        "\n",
        "        # Check if the root is found within the tolerance\n",
        "        if abs(func(c)) < tol:\n",
        "            return c, iterations\n",
        "\n",
        "        # Update the interval [a, b]\n",
        "        if func(c) * func(a) < 0:\n",
        "            b = c\n",
        "        else:\n",
        "            a = c\n",
        "\n",
        "        iterations += 1\n",
        "\n",
        "    return b - (func(b) * (b - a)) / (func(b) - func(a)), iterations\n",
        "\n",
        "# Define the target function f(x) = x^3 - 2\n",
        "def target_function(x):\n",
        "    return x**3 - 2\n",
        "\n",
        "# Adjusted initial guesses to speed up convergence\n",
        "initial_guess_a = 1.0\n",
        "initial_guess_b = 1.5\n",
        "\n",
        "# Solve the function using the False Position method\n",
        "root, iterations = false_position_method(target_function, initial_guess_a, initial_guess_b)\n",
        "\n",
        "# Display the result\n",
        "print(f\"Approximate root: {root}\")\n",
        "print(f\"Iterations performed: {iterations}\")\n"
      ]
    }
  ]
}